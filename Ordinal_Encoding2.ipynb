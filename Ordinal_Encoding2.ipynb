{
 "cells": [
  {
   "cell_type": "code",
   "execution_count": 3,
   "id": "0cfb7bc8-d083-4af9-945f-c204de41c7da",
   "metadata": {},
   "outputs": [],
   "source": [
    "import pandas as pd"
   ]
  },
  {
   "cell_type": "code",
   "execution_count": 4,
   "id": "2a4e619f-f315-46dd-a516-a4bec3c8b2f7",
   "metadata": {},
   "outputs": [
    {
     "name": "stdout",
     "output_type": "stream",
     "text": [
      "Defaulting to user installation because normal site-packages is not writeable\n",
      "Requirement already satisfied: scikit-learn in c:\\users\\hp\\appdata\\roaming\\python\\python313\\site-packages (1.7.0)\n",
      "Requirement already satisfied: numpy>=1.22.0 in c:\\users\\hp\\appdata\\roaming\\python\\python313\\site-packages (from scikit-learn) (2.3.1)\n",
      "Requirement already satisfied: scipy>=1.8.0 in c:\\users\\hp\\appdata\\roaming\\python\\python313\\site-packages (from scikit-learn) (1.16.0)\n",
      "Requirement already satisfied: joblib>=1.2.0 in c:\\users\\hp\\appdata\\roaming\\python\\python313\\site-packages (from scikit-learn) (1.5.1)\n",
      "Requirement already satisfied: threadpoolctl>=3.1.0 in c:\\users\\hp\\appdata\\roaming\\python\\python313\\site-packages (from scikit-learn) (3.6.0)\n"
     ]
    }
   ],
   "source": [
    "!pip install scikit-learn"
   ]
  },
  {
   "cell_type": "code",
   "execution_count": 7,
   "id": "970ac977-7e73-4265-a9d6-904833d1622c",
   "metadata": {},
   "outputs": [],
   "source": [
    "# sample data \n",
    "data = {\n",
    "    'CustomerID': ['C001', 'C002', 'C003', 'C004', 'C005', 'C006', 'C007', 'C008'],\n",
    "    'Education_Level': ['High School', 'Bachelors', 'Masters', 'PhD', 'Bachelors', 'High School', 'Masters', 'PhD'],\n",
    "    'Product_Quality': ['Low', 'Medium', 'High', 'Medium', 'Low', 'High', 'Medium', 'High'],\n",
    "    'Satisfaction_Level': ['Poor', 'Average', 'Excellent', 'Good', 'Average', 'Poor', 'Good', 'Excellent']\n",
    "}\n",
    "\n",
    "df = pd.DataFrame(data)"
   ]
  },
  {
   "cell_type": "code",
   "execution_count": 8,
   "id": "6d158c64-3b5e-4680-90e8-ec90fe82612b",
   "metadata": {},
   "outputs": [],
   "source": [
    "# Define the order for each ordinal feature\n",
    "\n",
    "education_order = ['High School', 'Bachelors', 'Masters', 'PhD']\n",
    "product_quality_order = ['Low', 'Medium', 'High']\n",
    "satisfaction_order = ['Poor', 'Average', 'Good', 'Excellent']\n"
   ]
  },
  {
   "cell_type": "code",
   "execution_count": null,
   "id": "eeb123d8-dc30-41e9-8770-de39912bd505",
   "metadata": {},
   "outputs": [],
   "source": []
  }
 ],
 "metadata": {
  "kernelspec": {
   "display_name": "Python 3 (ipykernel)",
   "language": "python",
   "name": "python3"
  },
  "language_info": {
   "codemirror_mode": {
    "name": "ipython",
    "version": 3
   },
   "file_extension": ".py",
   "mimetype": "text/x-python",
   "name": "python",
   "nbconvert_exporter": "python",
   "pygments_lexer": "ipython3",
   "version": "3.13.5"
  }
 },
 "nbformat": 4,
 "nbformat_minor": 5
}
