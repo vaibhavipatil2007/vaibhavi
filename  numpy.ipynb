{
 "cells": [
  {
   "cell_type": "code",
   "execution_count": 1,
   "id": "38be0f8c-7feb-4d73-9499-1f7ab2eea54e",
   "metadata": {},
   "outputs": [
    {
     "name": "stdout",
     "output_type": "stream",
     "text": [
      "Defaulting to user installation because normal site-packages is not writeable\n",
      "Collecting numpy\n",
      "  Downloading numpy-2.3.1-cp313-cp313-win_amd64.whl.metadata (60 kB)\n",
      "Downloading numpy-2.3.1-cp313-cp313-win_amd64.whl (12.7 MB)\n",
      "   ---------------------------------------- 0.0/12.7 MB ? eta -:--:--\n",
      "    --------------------------------------- 0.3/12.7 MB ? eta -:--:--\n",
      "   --- ------------------------------------ 1.0/12.7 MB 4.8 MB/s eta 0:00:03\n",
      "   ------ --------------------------------- 2.1/12.7 MB 4.6 MB/s eta 0:00:03\n",
      "   --------- ------------------------------ 2.9/12.7 MB 4.6 MB/s eta 0:00:03\n",
      "   ------------ --------------------------- 3.9/12.7 MB 4.5 MB/s eta 0:00:02\n",
      "   -------------- ------------------------- 4.7/12.7 MB 4.3 MB/s eta 0:00:02\n",
      "   ------------------ --------------------- 5.8/12.7 MB 4.3 MB/s eta 0:00:02\n",
      "   -------------------- ------------------- 6.6/12.7 MB 4.5 MB/s eta 0:00:02\n",
      "   --------------------- ------------------ 6.8/12.7 MB 3.9 MB/s eta 0:00:02\n",
      "   ------------------------ --------------- 7.9/12.7 MB 4.0 MB/s eta 0:00:02\n",
      "   ---------------------------- ----------- 9.2/12.7 MB 4.3 MB/s eta 0:00:01\n",
      "   ------------------------------ --------- 9.7/12.7 MB 4.1 MB/s eta 0:00:01\n",
      "   -------------------------------- ------- 10.5/12.7 MB 4.0 MB/s eta 0:00:01\n",
      "   ------------------------------------- -- 11.8/12.7 MB 4.2 MB/s eta 0:00:01\n",
      "   ---------------------------------------  12.6/12.7 MB 4.3 MB/s eta 0:00:01\n",
      "   ---------------------------------------- 12.7/12.7 MB 4.0 MB/s eta 0:00:00\n",
      "Installing collected packages: numpy\n",
      "Successfully installed numpy-2.3.1\n",
      "Note: you may need to restart the kernel to use updated packages.\n"
     ]
    },
    {
     "name": "stderr",
     "output_type": "stream",
     "text": [
      "  WARNING: The scripts f2py.exe and numpy-config.exe are installed in 'C:\\Users\\HP\\AppData\\Roaming\\Python\\Python313\\Scripts' which is not on PATH.\n",
      "  Consider adding this directory to PATH or, if you prefer to suppress this warning, use --no-warn-script-location.\n"
     ]
    }
   ],
   "source": [
    "pip install numpy"
   ]
  },
  {
   "cell_type": "code",
   "execution_count": 1,
   "id": "f226d22d-97bc-40bc-9496-541fa4ba446e",
   "metadata": {},
   "outputs": [],
   "source": [
    "import numpy as np"
   ]
  },
  {
   "cell_type": "code",
   "execution_count": 2,
   "id": "9b2f8837-a609-4bf8-a636-d30838f3db05",
   "metadata": {},
   "outputs": [
    {
     "name": "stdout",
     "output_type": "stream",
     "text": [
      "[10 20 30 40 50]\n"
     ]
    }
   ],
   "source": [
    "# creatinng array \n",
    "arr =np.array([10,20,30,40,50])\n",
    "print(arr)"
   ]
  },
  {
   "cell_type": "code",
   "execution_count": 3,
   "id": "9379771f-5a9a-43ca-9459-0a304451ba41",
   "metadata": {},
   "outputs": [
    {
     "name": "stdout",
     "output_type": "stream",
     "text": [
      "2.3.1\n"
     ]
    }
   ],
   "source": [
    "print (np.__version__)"
   ]
  },
  {
   "cell_type": "code",
   "execution_count": 4,
   "id": "2aec347e-0d19-4766-8a0a-2d08aa3c5675",
   "metadata": {},
   "outputs": [
    {
     "name": "stdout",
     "output_type": "stream",
     "text": [
      "[1 2 3 4 5 6]\n",
      "<class 'numpy.ndarray'>\n"
     ]
    }
   ],
   "source": [
    "arr2=np.array([1,2,3,4,5,6])\n",
    "print(arr2)\n",
    "print(type(arr2))"
   ]
  },
  {
   "cell_type": "code",
   "execution_count": 5,
   "id": "8bfe59e9-21ea-40a9-a6dd-0f8482cbad4e",
   "metadata": {},
   "outputs": [
    {
     "name": "stdout",
     "output_type": "stream",
     "text": [
      "42\n"
     ]
    }
   ],
   "source": [
    "arr=np.array(42)\n",
    "print(arr)"
   ]
  },
  {
   "cell_type": "code",
   "execution_count": 6,
   "id": "99cdf14d-868a-4156-a261-8d154477a26a",
   "metadata": {},
   "outputs": [
    {
     "name": "stdout",
     "output_type": "stream",
     "text": [
      "[[1 2 3 4 5 6]]\n"
     ]
    }
   ],
   "source": [
    "arr=np.array([[1,2,3,4,5,6]])\n",
    "print(arr)"
   ]
  },
  {
   "cell_type": "code",
   "execution_count": 7,
   "id": "340547d8-6c3e-4833-8f6a-e7ae2c7953bb",
   "metadata": {},
   "outputs": [
    {
     "name": "stdout",
     "output_type": "stream",
     "text": [
      "1\n",
      "2\n",
      "3\n"
     ]
    }
   ],
   "source": [
    "arr = np.array([1,2,3])\n",
    "for x in arr:\n",
    " print(x)"
   ]
  },
  {
   "cell_type": "code",
   "execution_count": 8,
   "id": "ff8264b4-e45b-46c3-a31d-a18f630ec725",
   "metadata": {},
   "outputs": [
    {
     "name": "stdout",
     "output_type": "stream",
     "text": [
      "4\n"
     ]
    }
   ],
   "source": [
    "# Accessing elements for -ve index\n",
    "arr=np.array([[1,2,3,4,5],\n",
    "                  [6,7,8,9,10]])\n",
    "print(arr[0,-2])"
   ]
  },
  {
   "cell_type": "code",
   "execution_count": 9,
   "id": "fe5e5f85-f50b-4bdb-bbff-babe377fdc70",
   "metadata": {},
   "outputs": [
    {
     "name": "stdout",
     "output_type": "stream",
     "text": [
      "[ 2  4  6  8 10]\n"
     ]
    }
   ],
   "source": [
    "# slicing elements from array \n",
    "arr = np.array([1, 2, 3, 4, 5, 6, 7, 8, 9, 10])\n",
    "print(arr[1:11:2])"
   ]
  },
  {
   "cell_type": "code",
   "execution_count": 10,
   "id": "d5b7a982-89d2-4348-aefe-8f218f41c907",
   "metadata": {},
   "outputs": [
    {
     "name": "stdout",
     "output_type": "stream",
     "text": [
      "[6 7 8 9]\n"
     ]
    }
   ],
   "source": [
    "# slicing with -ve\n",
    "arr = np.array([1, 2, 3, 4, 5, 6, 7, 8, 9, 10])\n",
    "print(arr[-5:-1])"
   ]
  },
  {
   "cell_type": "code",
   "execution_count": 11,
   "id": "74b01426-3823-44b5-a6cd-12bac51635f7",
   "metadata": {},
   "outputs": [
    {
     "name": "stdout",
     "output_type": "stream",
     "text": [
      "int64\n"
     ]
    }
   ],
   "source": [
    "# checking datatype of array \n",
    "\n",
    "arr =np.array([1,2,3,4,5])\n",
    "print(arr.dtype) "
   ]
  },
  {
   "cell_type": "code",
   "execution_count": 12,
   "id": "75affe84-142e-4e8c-8d2c-5558a577d79c",
   "metadata": {},
   "outputs": [
    {
     "name": "stdout",
     "output_type": "stream",
     "text": [
      "(2, 4)\n"
     ]
    }
   ],
   "source": [
    "# checking shape of an array \n",
    "\n",
    "arr=np.array([[1,2,3,4],\n",
    "             [5,6,7,8]])\n",
    "print(arr.shape)"
   ]
  },
  {
   "cell_type": "code",
   "execution_count": 13,
   "id": "308b63af-c0f3-45da-8a21-51bdd3881abc",
   "metadata": {},
   "outputs": [
    {
     "name": "stdout",
     "output_type": "stream",
     "text": [
      "8\n"
     ]
    }
   ],
   "source": [
    "# checking size of an array \n",
    "arr=np.array([[1,2,3,4],\n",
    "             [5,6,7,8]])\n",
    "print(arr.size)"
   ]
  },
  {
   "cell_type": "code",
   "execution_count": 14,
   "id": "060eb8a4-c376-4377-bffc-190054088233",
   "metadata": {},
   "outputs": [
    {
     "name": "stdout",
     "output_type": "stream",
     "text": [
      "[[ 1  2  3]\n",
      " [ 4  5  6]\n",
      " [ 7  8  9]\n",
      " [10 11 12]]\n"
     ]
    }
   ],
   "source": [
    "# Reshaping arrays \n",
    "arr = np.array([1, 2, 3, 4, 5, 6, 7, 8, 9, 10,11,12])\n",
    "newarr=arr.reshape(4,3)\n",
    "print(newarr)"
   ]
  },
  {
   "cell_type": "code",
   "execution_count": 15,
   "id": "e0ccd9a5-bc60-42c0-bbe4-3ab2589d3c17",
   "metadata": {},
   "outputs": [
    {
     "name": "stdout",
     "output_type": "stream",
     "text": [
      "[1 2 3 4 5 6]\n"
     ]
    }
   ],
   "source": [
    "# Joining array \n",
    "arr1=np.array([1,2,3])\n",
    "arr2=np.array([4,5,6])\n",
    "arr=np.concatenate((arr1,arr2))\n",
    "print(arr)"
   ]
  },
  {
   "cell_type": "code",
   "execution_count": 16,
   "id": "9d1d355f-d9b7-4aa0-a9c6-1535c6a2e724",
   "metadata": {},
   "outputs": [
    {
     "name": "stdout",
     "output_type": "stream",
     "text": [
      "[array([1]), array([2]), array([3]), array([4]), array([5]), array([6])]\n"
     ]
    }
   ],
   "source": [
    "# spiling of an array \n",
    "\n",
    "arr=np.array([1,2,3,4,5,6])\n",
    "newarr=np.array_split(arr,6)\n",
    "print(newarr)"
   ]
  },
  {
   "cell_type": "code",
   "execution_count": 17,
   "id": "d52ff57e-9cfc-4031-9875-d1b84a5aa766",
   "metadata": {},
   "outputs": [
    {
     "name": "stdout",
     "output_type": "stream",
     "text": [
      "(array([3, 5, 6]),)\n"
     ]
    }
   ],
   "source": [
    "# searching for indexing an array \n",
    "arr=np.array([1,2,3,4,5,4,4])\n",
    "x=np.where(arr==4)\n",
    "print(x)"
   ]
  },
  {
   "cell_type": "code",
   "execution_count": 18,
   "id": "dc36ec21-1bbf-4167-8843-6430cee5b736",
   "metadata": {},
   "outputs": [
    {
     "name": "stdout",
     "output_type": "stream",
     "text": [
      "[0 1 2 3]\n"
     ]
    }
   ],
   "source": [
    "# sorting array \n",
    "# ascending order\n",
    "\n",
    "arr=np.array([3,2,0,1])\n",
    "print(np.sort(arr))"
   ]
  },
  {
   "cell_type": "code",
   "execution_count": 19,
   "id": "63bd3dab-a62c-4bfd-9577-3dda3368e6bb",
   "metadata": {},
   "outputs": [
    {
     "name": "stdout",
     "output_type": "stream",
     "text": [
      "[3 2 1 0]\n"
     ]
    }
   ],
   "source": [
    "# descending order\n",
    "\n",
    "arr=np.array([3,2,0,1])\n",
    "print(np.sort(arr)[::-1])"
   ]
  },
  {
   "cell_type": "code",
   "execution_count": 20,
   "id": "54cb5a26-f759-48c0-b67e-e6d34f5833de",
   "metadata": {},
   "outputs": [
    {
     "name": "stdout",
     "output_type": "stream",
     "text": [
      "[41 43]\n"
     ]
    }
   ],
   "source": [
    "# flitering array elemets\n",
    "\n",
    "arr = np.array([41, 42, 43, 44])\n",
    "x = [True, False, True, False]\n",
    "newarr = arr[x]\n",
    "print(newarr)"
   ]
  },
  {
   "cell_type": "code",
   "execution_count": 21,
   "id": "a657fea9-1cb4-4538-b6a5-8bd64edefbc8",
   "metadata": {},
   "outputs": [
    {
     "name": "stdout",
     "output_type": "stream",
     "text": [
      "[False, False, True, True]\n",
      "[43 44]\n"
     ]
    }
   ],
   "source": [
    "arr = np.array([41, 42, 43, 44])\n",
    "filter_arr = []  \n",
    "\n",
    "for element in arr:  \n",
    "    if element > 42:                 \n",
    "        filter_arr.append(True)\n",
    "    else:\n",
    "        filter_arr.append(False)    \n",
    "\n",
    "newarr = arr[filter_arr]\n",
    "print(filter_arr)\n",
    "print(newarr)\n"
   ]
  },
  {
   "cell_type": "code",
   "execution_count": 22,
   "id": "e9cd5bbe-82d6-42a0-97bd-819c45f5993c",
   "metadata": {},
   "outputs": [
    {
     "name": "stdout",
     "output_type": "stream",
     "text": [
      "float64\n",
      "['1.0' '2.7' '3.6' '4.0' '5.0']\n"
     ]
    }
   ],
   "source": [
    "# conversion of datatype \n",
    "arr=np.array([1.0,2.7,3.6,4,5])\n",
    "print(arr.dtype)\n",
    "print(arr.astype(str))"
   ]
  },
  {
   "cell_type": "code",
   "execution_count": 23,
   "id": "dd2c7dce-c8e0-4fbe-95bd-9c9a42b9ea1d",
   "metadata": {},
   "outputs": [
    {
     "name": "stdout",
     "output_type": "stream",
     "text": [
      "[20 30 40 50 60]\n"
     ]
    }
   ],
   "source": [
    "# adding and removing elements\n",
    "arr=np.array([20,30,40,50])\n",
    "# append \n",
    "print(np.append(arr,60))"
   ]
  },
  {
   "cell_type": "code",
   "execution_count": 24,
   "id": "1ac2497f-f4a1-4bbb-a916-a33292464023",
   "metadata": {},
   "outputs": [
    {
     "name": "stdout",
     "output_type": "stream",
     "text": [
      "[20 30 40 60 50]\n"
     ]
    }
   ],
   "source": [
    "# insert \n",
    "print (np.insert(arr,3,60))"
   ]
  },
  {
   "cell_type": "code",
   "execution_count": 25,
   "id": "cbcf7c1c-505b-45ae-ad7f-20107cbb97ef",
   "metadata": {},
   "outputs": [
    {
     "name": "stdout",
     "output_type": "stream",
     "text": [
      "[20 30 50]\n"
     ]
    }
   ],
   "source": [
    "# delete\n",
    "print(np.delete(arr,[2]))"
   ]
  },
  {
   "cell_type": "code",
   "execution_count": 26,
   "id": "d485d8b7-fe43-4c86-b4a0-5900b6ad0065",
   "metadata": {},
   "outputs": [
    {
     "name": "stdout",
     "output_type": "stream",
     "text": [
      "210\n"
     ]
    }
   ],
   "source": [
    "# aggregating function \n",
    "\n",
    "a =np.array([10,20,30,40,50,60])\n",
    "\n",
    "# sum \n",
    "print(np.sum(a))"
   ]
  },
  {
   "cell_type": "code",
   "execution_count": 27,
   "id": "d41babae-941f-45b3-87d1-ee4739aca447",
   "metadata": {},
   "outputs": [
    {
     "name": "stdout",
     "output_type": "stream",
     "text": [
      "10\n"
     ]
    }
   ],
   "source": [
    "#minimum\n",
    "print(np.min(a))"
   ]
  },
  {
   "cell_type": "code",
   "execution_count": 28,
   "id": "4ff133ba-5589-4e33-82f2-5fe6cab557c9",
   "metadata": {},
   "outputs": [
    {
     "name": "stdout",
     "output_type": "stream",
     "text": [
      "60\n"
     ]
    }
   ],
   "source": [
    "#mazimum\n",
    "print(np.max(a))"
   ]
  },
  {
   "cell_type": "code",
   "execution_count": 29,
   "id": "b0da20bc-80ed-4796-8197-2b9e271648ba",
   "metadata": {},
   "outputs": [
    {
     "name": "stdout",
     "output_type": "stream",
     "text": [
      "[ 20  50  90 140]\n"
     ]
    }
   ],
   "source": [
    "# cumulative sum \n",
    "print(np.cumsum(arr))"
   ]
  },
  {
   "cell_type": "code",
   "execution_count": 30,
   "id": "a966b680-1c45-40f5-bbf6-591d8c16a0a4",
   "metadata": {},
   "outputs": [
    {
     "name": "stdout",
     "output_type": "stream",
     "text": [
      "35.0\n"
     ]
    }
   ],
   "source": [
    "# statistics as starts \n",
    "\n",
    "food_price=[10,20,50,60,70,20,20,30]\n",
    "arr=np.array(food_price)\n",
    "\n",
    "# mean \n",
    "print(np.mean(arr))"
   ]
  },
  {
   "cell_type": "code",
   "execution_count": 31,
   "id": "a5795af9-6302-44de-946d-d62c553f730c",
   "metadata": {},
   "outputs": [
    {
     "name": "stdout",
     "output_type": "stream",
     "text": [
      "25.0\n"
     ]
    }
   ],
   "source": [
    " #median\n",
    "print(np.median(arr))"
   ]
  },
  {
   "cell_type": "code",
   "execution_count": 1,
   "id": "58f77a63-f599-4e2b-9e23-e72726a3ea93",
   "metadata": {},
   "outputs": [
    {
     "ename": "NameError",
     "evalue": "name 'stats' is not defined",
     "output_type": "error",
     "traceback": [
      "\u001b[31m---------------------------------------------------------------------------\u001b[39m",
      "\u001b[31mNameError\u001b[39m                                 Traceback (most recent call last)",
      "\u001b[36mCell\u001b[39m\u001b[36m \u001b[39m\u001b[32mIn[1]\u001b[39m\u001b[32m, line 2\u001b[39m\n\u001b[32m      1\u001b[39m \u001b[38;5;66;03m# mode \u001b[39;00m\n\u001b[32m----> \u001b[39m\u001b[32m2\u001b[39m \u001b[38;5;28mprint\u001b[39m(\u001b[33m\"\u001b[39m\u001b[33mMode:\u001b[39m\u001b[33m\"\u001b[39m, \u001b[43mstats\u001b[49m.mode(arr, keepdims=\u001b[38;5;28;01mTrue\u001b[39;00m))\n",
      "\u001b[31mNameError\u001b[39m: name 'stats' is not defined"
     ]
    }
   ],
   "source": [
    "# mode \n",
    "print(\"Mode:\", stats.mode(arr, keepdims=True))\n",
    "\n"
   ]
  },
  {
   "cell_type": "code",
   "execution_count": null,
   "id": "7fe44922-6082-487a-97fe-f66f3e443596",
   "metadata": {},
   "outputs": [],
   "source": []
  }
 ],
 "metadata": {
  "kernelspec": {
   "display_name": "Python 3 (ipykernel)",
   "language": "python",
   "name": "python3"
  },
  "language_info": {
   "codemirror_mode": {
    "name": "ipython",
    "version": 3
   },
   "file_extension": ".py",
   "mimetype": "text/x-python",
   "name": "python",
   "nbconvert_exporter": "python",
   "pygments_lexer": "ipython3",
   "version": "3.13.5"
  }
 },
 "nbformat": 4,
 "nbformat_minor": 5
}
