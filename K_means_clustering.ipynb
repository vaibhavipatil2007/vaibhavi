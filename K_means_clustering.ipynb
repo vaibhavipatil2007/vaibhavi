{
 "cells": [
  {
   "cell_type": "code",
   "execution_count": null,
   "id": "6600229a-f5bc-41ea-ae61-954733d4cd11",
   "metadata": {},
   "outputs": [],
   "source": [
    "# Importing Libraries\n",
    "\n",
    "import numpy as np\n",
    "import pandas as pd\n",
    "import matplotlib.pyplot as plt\n",
    "import seaborn as sns\n",
    "import warnings\n",
    "warnings.filterwarnings('ignore')"
   ]
  },
  {
   "cell_type": "code",
   "execution_count": null,
   "id": "bfee9b01-8af2-41d6-a5e4-ae8fa827abe5",
   "metadata": {},
   "outputs": [],
   "source": [
    "# Importing dataset\n",
    "\n",
    "ds=pd.read_csv(\"Mall_Customers.csv\")\n",
    "ds"
   ]
  },
  {
   "cell_type": "code",
   "execution_count": null,
   "id": "6a9b720f-9a3b-4864-9256-51b91aad930b",
   "metadata": {},
   "outputs": [],
   "source": [
    "# Taking input values for x\n",
    "\n",
    "x=ds[[\"Annual Income (k$)\",\"Spending Score (1-100)\"]]"
   ]
  },
  {
   "cell_type": "code",
   "execution_count": null,
   "id": "0260ed73-e775-46c9-9473-9c90c523c1f3",
   "metadata": {},
   "outputs": [],
   "source": [
    "# Importing model selection library(kmeans0and fitting for prediction of cluster\n",
    "\n",
    "from sklearn.cluster import KMeans\n",
    "kmeans = KMeans(n_clusters = 5, init = 'k-means++', random_state = 42)\n",
    "y_kmeans = kmeans.fit_predict(x)"
   ]
  },
  {
   "cell_type": "code",
   "execution_count": null,
   "id": "12c81b50-2242-4954-bec6-d807cf27853d",
   "metadata": {},
   "outputs": [],
   "source": [
    "y_kmeans"
   ]
  },
  {
   "cell_type": "code",
   "execution_count": null,
   "id": "def37bfa-6ca0-4ed9-9af4-653bf67f76af",
   "metadata": {},
   "outputs": [],
   "source": [
    "#making cluster table\n",
    "\n",
    "result=pd.DataFrame(data=y_kmeans, columns=['Cluster'])\n",
    "result"
   ]
  },
  {
   "cell_type": "code",
   "execution_count": null,
   "id": "6648ea40-4fea-4c58-8685-1e0e06bca1a8",
   "metadata": {},
   "outputs": [],
   "source": [
    "#join x data and cluster type data\n",
    "\n",
    "data = pd.concat([x, result], axis=1)"
   ]
  },
  {
   "cell_type": "code",
   "execution_count": null,
   "id": "288f174e-dba4-4004-92dc-c539e120df39",
   "metadata": {},
   "outputs": [],
   "source": [
    "# Getting specific cluster list visualization\n",
    "\n",
    "data[data['Cluster']==4].plot(kind = 'scatter', x =\"Annual Income (k$)\", y =\"Spending Score (1-100)\", color = 'red')"
   ]
  },
  {
   "cell_type": "code",
   "execution_count": null,
   "id": "32f0117e-e129-487b-a323-ce22d734e4e9",
   "metadata": {},
   "outputs": [],
   "source": [
    "# Plotting variable of x\n",
    "\n",
    "x.plot(kind = 'scatter', x = \"Annual Income (k$)\", y =\"Spending Score (1-100)\", color = 'red')\n",
    "plt.show()"
   ]
  },
  {
   "cell_type": "code",
   "execution_count": null,
   "id": "759f4730-f2a4-4d4e-8a66-7b1b8e3c223c",
   "metadata": {},
   "outputs": [],
   "source": [
    "# I want to predict for my input\n",
    "\n",
    "kmeans.predict([[30,70]])"
   ]
  },
  {
   "cell_type": "code",
   "execution_count": null,
   "id": "eb04d4c8-f6ca-4dab-ad22-56a08ae5c83f",
   "metadata": {},
   "outputs": [],
   "source": [
    "# Clustering Visualization\n",
    "\n",
    "colors = ['red','green','purple','orange','blue']\n",
    "for i in range(0,5):\n",
    "    cluster = data[data['Cluster'] == i]\n",
    "    plt.scatter(cluster[ \"Annual Income (k$)\"], cluster[\"Spending Score (1-100)\"], color = colors[i])\n",
    "    plt.scatter(kmeans.cluster_centers_[i,0],kmeans.cluster_centers_[i,1], color = 'black', s = 100)"
   ]
  },
  {
   "cell_type": "code",
   "execution_count": null,
   "id": "bcac5a9f-f81f-483a-ab9f-c8c36e497ba0",
   "metadata": {},
   "outputs": [],
   "source": [
    "# user input\n",
    "print(\"Enter new custmer data to predict cluster:\")\n",
    "\n",
    "income = float(input(\"Enter Annual Income (k$): \"))\n",
    "score = float(input(\"Enter Spending Score (1-100): \"))\n",
    "\n",
    "# Predict the cluster for new customer\n",
    "predicted_cluster = kmeans.predict([[income, Score]])[0]\n",
    "print(f\"The customer belongs to Cluster {predicted_cluster}\")"
   ]
  },
  {
   "cell_type": "code",
   "execution_count": null,
   "id": "699ac778-ba60-4ced-9792-9b4d3f9061ab",
   "metadata": {},
   "outputs": [],
   "source": []
  },
  {
   "cell_type": "code",
   "execution_count": null,
   "id": "4194ee3d-7c47-4b37-a811-927973773201",
   "metadata": {},
   "outputs": [],
   "source": []
  }
 ],
 "metadata": {
  "kernelspec": {
   "display_name": "Python 3 (ipykernel)",
   "language": "python",
   "name": "python3"
  },
  "language_info": {
   "codemirror_mode": {
    "name": "ipython",
    "version": 3
   },
   "file_extension": ".py",
   "mimetype": "text/x-python",
   "name": "python",
   "nbconvert_exporter": "python",
   "pygments_lexer": "ipython3",
   "version": "3.13.5"
  }
 },
 "nbformat": 4,
 "nbformat_minor": 5
}
